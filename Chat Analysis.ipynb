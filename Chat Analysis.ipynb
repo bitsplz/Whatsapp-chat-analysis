{
 "cells": [
  {
   "cell_type": "code",
   "execution_count": 1,
   "metadata": {},
   "outputs": [],
   "source": [
    "import pandas as pd\n",
    "import re"
   ]
  },
  {
   "cell_type": "code",
   "execution_count": 14,
   "metadata": {},
   "outputs": [],
   "source": [
    "def getTokens(line):   \n",
    "    splitLine = line.split(' - ') \n",
    "    dateTime = splitLine[0]\n",
    "    date, time = dateTime.split(', ') \n",
    "    message = ' '.join(splitLine[1:])\n",
    "    if validSender(message):\n",
    "        splitMessage = message.split(': ') \n",
    "        sender = splitMessage[0] \n",
    "        message = ' '.join(splitMessage[1:])\n",
    "    else:\n",
    "        sender=None\n",
    "    return date, time, sender, message\n",
    "def validSender(text):\n",
    "    patterns = [\n",
    "        '([\\w]+):',                        # First Name\n",
    "        '([\\w]+[\\s]+[\\w]+):',              # First Name + Last Name\n",
    "        '([\\w]+[\\s]+[\\w]+[\\s]+[\\w]+):',    # First Name + Middle Name + Last Name\n",
    "        '([+]\\d{2} \\d{5} \\d{5}):',         # Mobile Number (India)\n",
    "        '([+]\\d{2} \\d{3} \\d{3} \\d{4}):',   # Mobile Number (US)\n",
    "        '([\\w]+)[\\u263a-\\U0001f999]+:',    # Name and Emoji              \n",
    "    ]\n",
    "    pattern = '^' + '|'.join(patterns)\n",
    "    result = re.match(pattern, text)\n",
    "    if result:\n",
    "        return True\n",
    "    return False\n",
    "def startDT(line):\n",
    "    pattern='^([0-9]+)(/)([0-9]+)(/)([0-9][0-9][0-9][0-9]), ([0-9]+):([0-9][0-9]) (am|pm) -'\n",
    "    result=re.match(pattern, line)\n",
    "    if result:\n",
    "        return True\n",
    "    else:\n",
    "        return False\n",
    "\n",
    "data=[]\n",
    "with open('C:/Users/mujta/Downloads/chat1.txt', encoding=\"utf-8\") as fp:\n",
    "    buffer=[]\n",
    "    date,time,sender=None, None, None\n",
    "    while True:\n",
    "        line=fp.readline()\n",
    "        if not line:\n",
    "            break\n",
    "        else:\n",
    "            line=line.strip()\n",
    "            if startDT(line):\n",
    "                 if len(buffer) > 0: \n",
    "                     data.append([date, time, sender, ' '.join(buffer)]) \n",
    "                 buffer.clear() \n",
    "                 date, time, sender, message = getTokens(line) \n",
    "                 buffer.append(message) \n",
    "            else:\n",
    "                 buffer.append(line)               \n",
    "df=pd.DataFrame(data, columns=['Date','Time','Sender','Message'])    \n",
    "df['Date']=pd.to_datetime(df['Date'])                  \n",
    "df['Time']=pd.to_datetime(df['Time'])                  "
   ]
  },
  {
   "cell_type": "code",
   "execution_count": 15,
   "metadata": {},
   "outputs": [
    {
     "data": {
      "text/html": [
       "<div>\n",
       "<style scoped>\n",
       "    .dataframe tbody tr th:only-of-type {\n",
       "        vertical-align: middle;\n",
       "    }\n",
       "\n",
       "    .dataframe tbody tr th {\n",
       "        vertical-align: top;\n",
       "    }\n",
       "\n",
       "    .dataframe thead th {\n",
       "        text-align: right;\n",
       "    }\n",
       "</style>\n",
       "<table border=\"1\" class=\"dataframe\">\n",
       "  <thead>\n",
       "    <tr style=\"text-align: right;\">\n",
       "      <th></th>\n",
       "      <th>Date</th>\n",
       "      <th>Time</th>\n",
       "      <th>Sender</th>\n",
       "      <th>Message</th>\n",
       "    </tr>\n",
       "  </thead>\n",
       "  <tbody>\n",
       "    <tr>\n",
       "      <th>0</th>\n",
       "      <td>2019-04-04</td>\n",
       "      <td>2021-02-09 22:13:00</td>\n",
       "      <td>Laraib</td>\n",
       "      <td>Lol</td>\n",
       "    </tr>\n",
       "    <tr>\n",
       "      <th>1</th>\n",
       "      <td>2019-04-04</td>\n",
       "      <td>2021-02-09 22:13:00</td>\n",
       "      <td>Laraib</td>\n",
       "      <td>Black panther bish</td>\n",
       "    </tr>\n",
       "    <tr>\n",
       "      <th>2</th>\n",
       "      <td>2019-04-04</td>\n",
       "      <td>2021-02-09 22:14:00</td>\n",
       "      <td>Haris Iba</td>\n",
       "      <td>Beekar movies</td>\n",
       "    </tr>\n",
       "    <tr>\n",
       "      <th>3</th>\n",
       "      <td>2019-04-04</td>\n",
       "      <td>2021-02-09 22:14:00</td>\n",
       "      <td>Shaheer IBA</td>\n",
       "      <td>Ohhhhhhh</td>\n",
       "    </tr>\n",
       "    <tr>\n",
       "      <th>4</th>\n",
       "      <td>2019-04-04</td>\n",
       "      <td>2021-02-09 22:14:00</td>\n",
       "      <td>Shaheer IBA</td>\n",
       "      <td>I forgot ham wo dekhne gae the lololol</td>\n",
       "    </tr>\n",
       "  </tbody>\n",
       "</table>\n",
       "</div>"
      ],
      "text/plain": [
       "        Date                Time       Sender  \\\n",
       "0 2019-04-04 2021-02-09 22:13:00       Laraib   \n",
       "1 2019-04-04 2021-02-09 22:13:00       Laraib   \n",
       "2 2019-04-04 2021-02-09 22:14:00    Haris Iba   \n",
       "3 2019-04-04 2021-02-09 22:14:00  Shaheer IBA   \n",
       "4 2019-04-04 2021-02-09 22:14:00  Shaheer IBA   \n",
       "\n",
       "                                  Message  \n",
       "0                                     Lol  \n",
       "1                      Black panther bish  \n",
       "2                           Beekar movies  \n",
       "3                                Ohhhhhhh  \n",
       "4  I forgot ham wo dekhne gae the lololol  "
      ]
     },
     "execution_count": 15,
     "metadata": {},
     "output_type": "execute_result"
    }
   ],
   "source": [
    "df.head()"
   ]
  },
  {
   "cell_type": "code",
   "execution_count": 16,
   "metadata": {},
   "outputs": [
    {
     "name": "stdout",
     "output_type": "stream",
     "text": [
      "<class 'pandas.core.frame.DataFrame'>\n",
      "RangeIndex: 39998 entries, 0 to 39997\n",
      "Data columns (total 4 columns):\n",
      " #   Column   Non-Null Count  Dtype         \n",
      "---  ------   --------------  -----         \n",
      " 0   Date     39998 non-null  datetime64[ns]\n",
      " 1   Time     39998 non-null  datetime64[ns]\n",
      " 2   Sender   39870 non-null  object        \n",
      " 3   Message  39998 non-null  object        \n",
      "dtypes: datetime64[ns](2), object(2)\n",
      "memory usage: 1.2+ MB\n"
     ]
    }
   ],
   "source": [
    "df.info()"
   ]
  },
  {
   "cell_type": "code",
   "execution_count": 19,
   "metadata": {},
   "outputs": [
    {
     "data": {
      "text/plain": [
       "array(['Laraib', 'Haris Iba', 'Shaheer IBA', 'Salman Iba', 'Emaad IBA',\n",
       "       'Ali Iba', 'Shahzaib IBA', 'Mujtaba Afzal', 'Yahya IBA',\n",
       "       'Saadat Iba', None, 'Ahsan Iba', 'Shayan Iba', 'Sohaib IBA',\n",
       "       'Hammad Javed', 'Hammad Ahmed', 'Akash Iba'], dtype=object)"
      ]
     },
     "execution_count": 19,
     "metadata": {},
     "output_type": "execute_result"
    }
   ],
   "source": [
    "df.Sender.unique()"
   ]
  }
 ],
 "metadata": {
  "kernelspec": {
   "display_name": "Python 3",
   "language": "python",
   "name": "python3"
  },
  "language_info": {
   "codemirror_mode": {
    "name": "ipython",
    "version": 3
   },
   "file_extension": ".py",
   "mimetype": "text/x-python",
   "name": "python",
   "nbconvert_exporter": "python",
   "pygments_lexer": "ipython3",
   "version": "3.7.6"
  }
 },
 "nbformat": 4,
 "nbformat_minor": 4
}
