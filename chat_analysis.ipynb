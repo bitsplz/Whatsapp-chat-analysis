{
 "cells": [
  {
   "cell_type": "code",
   "execution_count": 11,
   "metadata": {},
   "outputs": [],
   "source": [
    "import pandas as pd\n",
    "import re\n",
    "import emojis\n",
    "import regex"
   ]
  },
  {
   "cell_type": "code",
   "execution_count": 2,
   "metadata": {},
   "outputs": [],
   "source": [
    "def getTokens(line):   \n",
    "    splitLine = line.split(' - ') \n",
    "    dateTime = splitLine[0]\n",
    "    date, time = dateTime.split(', ') \n",
    "    message = ' '.join(splitLine[1:])\n",
    "    if validSender(message):\n",
    "        splitMessage = message.split(': ') \n",
    "        sender = splitMessage[0] \n",
    "        message = ' '.join(splitMessage[1:])\n",
    "    else:\n",
    "        sender=None\n",
    "    return date, time, sender, message\n",
    "def validSender(text):\n",
    "    patterns = [\n",
    "        '([\\w]+):',                        # First Name\n",
    "        '([\\w]+[\\s]+[\\w]+):',              # First Name + Last Name\n",
    "        '([\\w]+[\\s]+[\\w]+[\\s]+[\\w]+):',    # First Name + Middle Name + Last Name\n",
    "        '([+]\\d{2} \\d{5} \\d{5}):',         # Mobile Number (India)\n",
    "        '([+]\\d{2} \\d{3} \\d{3} \\d{4}):',   # Mobile Number (US)\n",
    "        '([\\w]+)[\\u263a-\\U0001f999]+:',    # Name and Emoji              \n",
    "    ]\n",
    "    pattern = '^' + '|'.join(patterns)\n",
    "    result = re.match(pattern, text)\n",
    "    if result:\n",
    "        return True\n",
    "    return False\n",
    "def startDT(line):\n",
    "    pattern='^([0-9]+)(/)([0-9]+)(/)([0-9][0-9][0-9][0-9]), ([0-9]+):([0-9][0-9]) (am|pm) -'\n",
    "    result=re.match(pattern, line)\n",
    "    if result:\n",
    "        return True\n",
    "    else:\n",
    "        return False\n",
    "\n",
    "data=[]\n",
    "with open('C:/Users/mujta/Downloads/chat1.txt', encoding=\"utf-8\") as fp:\n",
    "    buffer=[]\n",
    "    date,time,sender=None, None, None\n",
    "    while True:\n",
    "        line=fp.readline()\n",
    "        if not line:\n",
    "            break\n",
    "        else:\n",
    "            line=line.strip()\n",
    "            if startDT(line):\n",
    "                 if len(buffer) > 0: \n",
    "                     data.append([date, time, sender, ' '.join(buffer)]) \n",
    "                 buffer.clear() \n",
    "                 date, time, sender, message = getTokens(line) \n",
    "                 buffer.append(message) \n",
    "            else:\n",
    "                 buffer.append(line)               \n",
    "df=pd.DataFrame(data, columns=['Date','Time','Sender','Message'])    \n",
    "df['Date']=pd.to_datetime(df['Date'])                  \n",
    "df['Time']=pd.to_datetime(df['Time'])                  \n",
    "df.info()"
   ]
  },
  {
   "cell_type": "code",
   "execution_count": null,
   "metadata": {},
   "outputs": [],
   "source": [
    "print(len(df.Sender.unique()))\n",
    "df.Sender.unique()"
   ]
  },
  {
   "cell_type": "code",
   "execution_count": 30,
   "metadata": {},
   "outputs": [
    {
     "name": "stdout",
     "output_type": "stream",
     "text": [
      "Total Messages: 39998 \n",
      "Media: 2990 \n",
      "Emojis: 14184 \n",
      "Links: 465\n"
     ]
    }
   ],
   "source": [
    "total_messages=df.shape[0]\n",
    "media_messages=len(df[df['Message'] == '<Media omitted>'])\n",
    "emoji_count=0\n",
    "for mes in df['Message']:\n",
    "    emoji_count+=emojis.count(mes)\n",
    "pattern=r'(https?://\\S+)'\n",
    "link_count=0\n",
    "for mes in df['Message']:\n",
    "    result=re.match(pattern, mes)\n",
    "    if result:\n",
    "        link_count+=1\n",
    "print(\"Total Messages: \"+str(total_messages), \"\\nMedia: \"+str(media_messages), \"\\nEmojis: \"+str(emoji_count), \"\\nLinks: \"+str(link_count))\n"
   ]
  },
  {
   "cell_type": "code",
   "execution_count": null,
   "metadata": {},
   "outputs": [],
   "source": []
  },
  {
   "cell_type": "code",
   "execution_count": null,
   "metadata": {},
   "outputs": [],
   "source": []
  }
 ],
 "metadata": {
  "kernelspec": {
   "display_name": "Python 3",
   "language": "python",
   "name": "python3"
  },
  "language_info": {
   "codemirror_mode": {
    "name": "ipython",
    "version": 3
   },
   "file_extension": ".py",
   "mimetype": "text/x-python",
   "name": "python",
   "nbconvert_exporter": "python",
   "pygments_lexer": "ipython3",
   "version": "3.7.6"
  }
 },
 "nbformat": 4,
 "nbformat_minor": 4
}
